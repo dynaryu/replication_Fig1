{
 "cells": [
  {
   "cell_type": "markdown",
   "metadata": {},
   "source": [
    "## Replication of Fig. 1 from the paper entitled \"Improving FEMA P-58 Non-Structural Component Fragility Functions and Loss Predictions\" by Cremen and Baker "
   ]
  },
  {
   "cell_type": "code",
   "execution_count": 34,
   "metadata": {},
   "outputs": [],
   "source": [
    "from __future__ import division, print_function\n",
    "\n",
    "from scipy.optimize import minimize\n",
    "from scipy.stats import norm, lognorm\n",
    "import numpy as np\n",
    "import pandas as pd\n",
    "import StringIO\n",
    "import matplotlib\n",
    "%matplotlib inline\n",
    "import matplotlib.pyplot as plt\n"
   ]
  },
  {
   "cell_type": "markdown",
   "metadata": {},
   "source": [
    "### Replication of likelihood function presented in the paper"
   ]
  },
  {
   "cell_type": "code",
   "execution_count": 35,
   "metadata": {
    "collapsed": true
   },
   "outputs": [],
   "source": [
    "def likelihood_rep(x, data):\n",
    "    mu, std = x[0], x[1]\n",
    "\n",
    "    temp = 0.0\n",
    "    n = data['M'].values.sum()\n",
    "    edp_max = 0\n",
    "    m = 0\n",
    "    for _, row in data.iterrows():\n",
    "        if row['m']:\n",
    "            m += row['m']\n",
    "            temp += row['m']*np.log(lognorm.pdf(row['PFA'], std, loc=0, scale=mu))\n",
    "        else:\n",
    "            edp_max = max(row['PFA'], edp_max)\n",
    "    temp += (n-m) * np.log(1-lognorm.cdf(edp_max, std, loc=0, scale=mu))\n",
    "    return -1.0*temp\n",
    "\n"
   ]
  },
  {
   "cell_type": "markdown",
   "metadata": {},
   "source": [
    "### Likelihood function for a binomial distribution"
   ]
  },
  {
   "cell_type": "code",
   "execution_count": 36,
   "metadata": {
    "collapsed": true
   },
   "outputs": [],
   "source": [
    "def likelihood(x, data):\n",
    "    mu, std = x[0], x[1]\n",
    "\n",
    "    temp = 0.0\n",
    "    for _, row in data.iterrows():\n",
    "        p = lognorm.cdf(row['PFA'], std, loc=0, scale=mu)\n",
    "        temp += row['m'] * np.log(p) + (row['M']-row['m']) * np.log(1-p)\n",
    "\n",
    "    return -1.0*temp\n"
   ]
  },
  {
   "cell_type": "markdown",
   "metadata": {},
   "source": [
    "### chiller (installation category 3)"
   ]
  },
  {
   "cell_type": "code",
   "execution_count": 37,
   "metadata": {
    "collapsed": true
   },
   "outputs": [],
   "source": [
    "data_txt = StringIO.StringIO(\"\"\"\n",
    "PFA,M,m\n",
    "0.20,4,0 \n",
    "0.35,1,0 \n",
    "0.35,4,0 \n",
    "0.37,4,0 \n",
    "0.40,2,0 \n",
    "0.40,3,0 \n",
    "0.42,4,0 \n",
    "0.50,2,0 \n",
    "0.60,2,0 \n",
    "0.80,1,1\n",
    "\"\"\")\n",
    "\n",
    "chiller = pd.read_csv(data_txt)\n"
   ]
  },
  {
   "cell_type": "markdown",
   "metadata": {},
   "source": [
    "### disel generator (installation category 3)"
   ]
  },
  {
   "cell_type": "code",
   "execution_count": 38,
   "metadata": {
    "collapsed": true
   },
   "outputs": [],
   "source": [
    "data_txt = StringIO.StringIO(\"\"\"\n",
    "PFA,M,m\n",
    "0.12,1,1\n",
    "0.14,1,0\n",
    "0.2,3,0\n",
    "0.2,17,0\n",
    "0.2,4,0\n",
    "0.25,13,0\n",
    "0.25,15,0\n",
    "0.25,1,0\n",
    "0.25,1,0\n",
    "0.25,13,0\n",
    "0.25,1,1\n",
    "0.26,1,0\n",
    "0.3,1,0\n",
    "0.3,6,0\n",
    "0.3,1,0\n",
    "0.3,1,0\n",
    "0.3,3,2\n",
    "0.3,5,3\n",
    "0.4,2,0\n",
    "0.4,2,0\n",
    "0.4,1,0\n",
    "0.4,6,0\n",
    "0.4,4,0\n",
    "0.5,1,0\n",
    "0.5,3,0\n",
    "0.5,1,0\n",
    "0.6,18,0\n",
    "0.85,1,0\n",
    "\"\"\")\n",
    "\n",
    "generator = pd.read_csv(data_txt)"
   ]
  },
  {
   "cell_type": "markdown",
   "metadata": {},
   "source": [
    "#### Fig 1 (a)"
   ]
  },
  {
   "cell_type": "code",
   "execution_count": 45,
   "metadata": {},
   "outputs": [
    {
     "name": "stdout",
     "output_type": "stream",
     "text": [
      "[ 0.94254087  0.2       ]\n"
     ]
    },
    {
     "name": "stderr",
     "output_type": "stream",
     "text": [
      "/Users/hyeuk/anaconda2/lib/python2.7/site-packages/ipykernel/__main__.py:14: RuntimeWarning: divide by zero encountered in log\n"
     ]
    }
   ],
   "source": [
    "p_chiller_rep = minimize(likelihood_rep, x0=(0.5, 0.5), args=chiller, bounds=[(0.0, 5.0), (0.2, 0.6)])\n",
    "print(p_chiller_rep.x)"
   ]
  },
  {
   "cell_type": "code",
   "execution_count": 46,
   "metadata": {},
   "outputs": [
    {
     "name": "stdout",
     "output_type": "stream",
     "text": [
      "[ 0.75346611  0.2       ]\n"
     ]
    }
   ],
   "source": [
    "p_chiller = minimize(likelihood, x0=(0.5, 0.5), args=chiller, bounds=[(0.0, 5.0), (0.2, 0.6)])\n",
    "print(p_chiller.x)\n"
   ]
  },
  {
   "cell_type": "code",
   "execution_count": 48,
   "metadata": {},
   "outputs": [
    {
     "data": {
      "text/plain": [
       "<matplotlib.legend.Legend at 0x112a85510>"
      ]
     },
     "execution_count": 48,
     "metadata": {},
     "output_type": "execute_result"
    },
    {
     "data": {
      "image/png": "[encoded data removed]",
      "text/plain": [
       "<matplotlib.figure.Figure at 0x111ec2410>"
      ]
     },
     "metadata": {},
     "output_type": "display_data"
    }
   ],
   "source": [
    "pfa = np.arange(0.0, 1.5, 0.05)\n",
    "plt.plot(chiller['PFA'], chiller['m']/chiller['M'], 'o', label='Observation')\n",
    "plt.plot(pfa, lognorm.cdf(pfa, p_chiller_rep.x[1], loc=0, scale=p_chiller_rep.x[0]), label='Replication')\n",
    "plt.plot(pfa, lognorm.cdf(pfa, p_chiller.x[1], loc=0, scale=p_chiller.x[0]), label='Binonmial')\n",
    "plt.legend(loc=2)"
   ]
  },
  {
   "cell_type": "markdown",
   "metadata": {},
   "source": [
    "#### Fig 1(b)"
   ]
  },
  {
   "cell_type": "code",
   "execution_count": 49,
   "metadata": {},
   "outputs": [
    {
     "name": "stderr",
     "output_type": "stream",
     "text": [
      "/Users/hyeuk/anaconda2/lib/python2.7/site-packages/ipykernel/__main__.py:14: RuntimeWarning: divide by zero encountered in log\n"
     ]
    },
    {
     "name": "stdout",
     "output_type": "stream",
     "text": [
      "[ 5.   0.6]\n"
     ]
    }
   ],
   "source": [
    "p_generator_rep = minimize(likelihood_rep, x0=(0.5, 0.5), args=generator, bounds=[(0.0, 5.0), (0.2, 0.6)])\n",
    "print(p_generator_rep.x)\n"
   ]
  },
  {
   "cell_type": "code",
   "execution_count": 51,
   "metadata": {},
   "outputs": [
    {
     "name": "stdout",
     "output_type": "stream",
     "text": [
      "[ 0.8704127  0.6      ]\n"
     ]
    }
   ],
   "source": [
    "p_generator = minimize(likelihood, x0=(0.5, 0.5), args=generator, bounds=[(0.0, 5.0), (0.2, 0.6)])\n",
    "print(p_generator.x)"
   ]
  },
  {
   "cell_type": "code",
   "execution_count": 52,
   "metadata": {},
   "outputs": [
    {
     "data": {
      "text/plain": [
       "<matplotlib.legend.Legend at 0x112bd0750>"
      ]
     },
     "execution_count": 52,
     "metadata": {},
     "output_type": "execute_result"
    },
    {
     "data": {
      "image/png": "[encoded data removed]",
      "text/plain": [
       "<matplotlib.figure.Figure at 0x1129cf5d0>"
      ]
     },
     "metadata": {},
     "output_type": "display_data"
    }
   ],
   "source": [
    "plt.plot(generator['PFA'], generator['m']/generator['M'], 'o', label='Observation')\n",
    "plt.plot(pfa, lognorm.cdf(pfa, p_generator_rep.x[1], loc=0, scale=p_generator_rep.x[0]), label='Replication')\n",
    "plt.plot(pfa, lognorm.cdf(pfa, p_generator.x[1], loc=0, scale=p_generator.x[0]), label='Binonmial')\n",
    "plt.legend(loc=2)"
   ]
  }
 ],
 "metadata": {
  "kernelspec": {
   "display_name": "Python [conda root]",
   "language": "python",
   "name": "conda-root-py"
  },
  "language_info": {
   "codemirror_mode": {
    "name": "ipython",
    "version": 2
   },
   "file_extension": ".py",
   "mimetype": "text/x-python",
   "name": "python",
   "nbconvert_exporter": "python",
   "pygments_lexer": "ipython2",
   "version": "2.7.13"
  }
 },
 "nbformat": 4,
 "nbformat_minor": 2
}
